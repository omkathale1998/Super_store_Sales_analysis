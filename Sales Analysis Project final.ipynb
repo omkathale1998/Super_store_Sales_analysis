{
 "cells": [
  {
   "cell_type": "code",
   "execution_count": 16,
   "id": "039b6643-08f5-4d10-a640-63fd9a96126b",
   "metadata": {},
   "outputs": [],
   "source": [
    "import pandas as pd\n",
    "import numpy as np\n",
    "import seaborn as sns \n",
    "import matplotlib.pyplot as plt\n",
    "import warnings                     # to ignore warnings\n",
    "warnings.filterwarnings(\"ignore\")"
   ]
  },
  {
   "cell_type": "code",
   "execution_count": 17,
   "id": "775a4442-32e3-4cf1-bd8d-e24ee7c437b6",
   "metadata": {},
   "outputs": [],
   "source": [
    "df = pd.read_csv(r\"C:\\Users\\hp\\Downloads\\Sample_Superstore.csv\", encoding=\"latin1\") # \"latin1\" is a common encoding for files created in Windows"
   ]
  },
  {
   "cell_type": "code",
   "execution_count": 18,
   "id": "01a81814-0582-4277-9338-4762de30b645",
   "metadata": {},
   "outputs": [
    {
     "data": {
      "text/html": [
       "<div>\n",
       "<style scoped>\n",
       "    .dataframe tbody tr th:only-of-type {\n",
       "        vertical-align: middle;\n",
       "    }\n",
       "\n",
       "    .dataframe tbody tr th {\n",
       "        vertical-align: top;\n",
       "    }\n",
       "\n",
       "    .dataframe thead th {\n",
       "        text-align: right;\n",
       "    }\n",
       "</style>\n",
       "<table border=\"1\" class=\"dataframe\">\n",
       "  <thead>\n",
       "    <tr style=\"text-align: right;\">\n",
       "      <th></th>\n",
       "      <th>Row_ID</th>\n",
       "      <th>Order_ID</th>\n",
       "      <th>Product_Name</th>\n",
       "      <th>Category</th>\n",
       "      <th>Sales</th>\n",
       "      <th>Quantity</th>\n",
       "      <th>Profit</th>\n",
       "      <th>Order_Date</th>\n",
       "      <th>Customer_ID</th>\n",
       "      <th>Customer_Name</th>\n",
       "      <th>Segment</th>\n",
       "      <th>State</th>\n",
       "      <th>Region</th>\n",
       "      <th>Product ID</th>\n",
       "      <th>Discount</th>\n",
       "    </tr>\n",
       "  </thead>\n",
       "  <tbody>\n",
       "    <tr>\n",
       "      <th>0</th>\n",
       "      <td>1</td>\n",
       "      <td>CA-2016-152156</td>\n",
       "      <td>Bush Somerset Collection Bookcase</td>\n",
       "      <td>Furniture</td>\n",
       "      <td>261.9600</td>\n",
       "      <td>2</td>\n",
       "      <td>41.9136</td>\n",
       "      <td>11/8/2016</td>\n",
       "      <td>CG-12520</td>\n",
       "      <td>Claire Gute</td>\n",
       "      <td>Consumer</td>\n",
       "      <td>Kentucky</td>\n",
       "      <td>South</td>\n",
       "      <td>FUR-BO-10001798</td>\n",
       "      <td>0.00</td>\n",
       "    </tr>\n",
       "    <tr>\n",
       "      <th>1</th>\n",
       "      <td>2</td>\n",
       "      <td>CA-2016-152156</td>\n",
       "      <td>Hon Deluxe Fabric Upholstered Stacking Chairs,...</td>\n",
       "      <td>Furniture</td>\n",
       "      <td>731.9400</td>\n",
       "      <td>3</td>\n",
       "      <td>219.5820</td>\n",
       "      <td>11/8/2016</td>\n",
       "      <td>CG-12520</td>\n",
       "      <td>Claire Gute</td>\n",
       "      <td>Consumer</td>\n",
       "      <td>Kentucky</td>\n",
       "      <td>South</td>\n",
       "      <td>FUR-CH-10000454</td>\n",
       "      <td>0.00</td>\n",
       "    </tr>\n",
       "    <tr>\n",
       "      <th>2</th>\n",
       "      <td>3</td>\n",
       "      <td>CA-2016-138688</td>\n",
       "      <td>Self-Adhesive Address Labels for Typewriters b...</td>\n",
       "      <td>Office Supplies</td>\n",
       "      <td>14.6200</td>\n",
       "      <td>2</td>\n",
       "      <td>6.8714</td>\n",
       "      <td>6/12/2016</td>\n",
       "      <td>DV-13045</td>\n",
       "      <td>Darrin Van Huff</td>\n",
       "      <td>Corporate</td>\n",
       "      <td>California</td>\n",
       "      <td>West</td>\n",
       "      <td>OFF-LA-10000240</td>\n",
       "      <td>0.00</td>\n",
       "    </tr>\n",
       "    <tr>\n",
       "      <th>3</th>\n",
       "      <td>4</td>\n",
       "      <td>US-2015-108966</td>\n",
       "      <td>Bretford CR4500 Series Slim Rectangular Table</td>\n",
       "      <td>Furniture</td>\n",
       "      <td>957.5775</td>\n",
       "      <td>5</td>\n",
       "      <td>-383.0310</td>\n",
       "      <td>10/11/2015</td>\n",
       "      <td>SO-20335</td>\n",
       "      <td>Sean O'Donnell</td>\n",
       "      <td>Consumer</td>\n",
       "      <td>Florida</td>\n",
       "      <td>South</td>\n",
       "      <td>FUR-TA-10000577</td>\n",
       "      <td>0.45</td>\n",
       "    </tr>\n",
       "    <tr>\n",
       "      <th>4</th>\n",
       "      <td>5</td>\n",
       "      <td>US-2015-108966</td>\n",
       "      <td>Eldon Fold 'N Roll Cart System</td>\n",
       "      <td>Office Supplies</td>\n",
       "      <td>22.3680</td>\n",
       "      <td>2</td>\n",
       "      <td>2.5164</td>\n",
       "      <td>10/11/2015</td>\n",
       "      <td>SO-20335</td>\n",
       "      <td>Sean O'Donnell</td>\n",
       "      <td>Consumer</td>\n",
       "      <td>Florida</td>\n",
       "      <td>South</td>\n",
       "      <td>OFF-ST-10000760</td>\n",
       "      <td>0.20</td>\n",
       "    </tr>\n",
       "  </tbody>\n",
       "</table>\n",
       "</div>"
      ],
      "text/plain": [
       "   Row_ID        Order_ID                                       Product_Name  \\\n",
       "0       1  CA-2016-152156                  Bush Somerset Collection Bookcase   \n",
       "1       2  CA-2016-152156  Hon Deluxe Fabric Upholstered Stacking Chairs,...   \n",
       "2       3  CA-2016-138688  Self-Adhesive Address Labels for Typewriters b...   \n",
       "3       4  US-2015-108966      Bretford CR4500 Series Slim Rectangular Table   \n",
       "4       5  US-2015-108966                     Eldon Fold 'N Roll Cart System   \n",
       "\n",
       "          Category     Sales  Quantity    Profit  Order_Date Customer_ID  \\\n",
       "0        Furniture  261.9600         2   41.9136   11/8/2016    CG-12520   \n",
       "1        Furniture  731.9400         3  219.5820   11/8/2016    CG-12520   \n",
       "2  Office Supplies   14.6200         2    6.8714   6/12/2016    DV-13045   \n",
       "3        Furniture  957.5775         5 -383.0310  10/11/2015    SO-20335   \n",
       "4  Office Supplies   22.3680         2    2.5164  10/11/2015    SO-20335   \n",
       "\n",
       "     Customer_Name    Segment       State Region       Product ID  Discount  \n",
       "0      Claire Gute   Consumer    Kentucky  South  FUR-BO-10001798      0.00  \n",
       "1      Claire Gute   Consumer    Kentucky  South  FUR-CH-10000454      0.00  \n",
       "2  Darrin Van Huff  Corporate  California   West  OFF-LA-10000240      0.00  \n",
       "3   Sean O'Donnell   Consumer     Florida  South  FUR-TA-10000577      0.45  \n",
       "4   Sean O'Donnell   Consumer     Florida  South  OFF-ST-10000760      0.20  "
      ]
     },
     "execution_count": 18,
     "metadata": {},
     "output_type": "execute_result"
    }
   ],
   "source": [
    "df.head()"
   ]
  },
  {
   "cell_type": "markdown",
   "id": "1fa6297a-e051-493d-b790-6a97b4ff115e",
   "metadata": {},
   "source": [
    "# Data Exploration and Cleaning"
   ]
  },
  {
   "cell_type": "code",
   "execution_count": 19,
   "id": "f751a483-3495-466b-8889-ba4c0d76d94f",
   "metadata": {},
   "outputs": [
    {
     "data": {
      "text/plain": [
       "(9994, 15)"
      ]
     },
     "execution_count": 19,
     "metadata": {},
     "output_type": "execute_result"
    }
   ],
   "source": [
    "df.shape"
   ]
  },
  {
   "cell_type": "code",
   "execution_count": 20,
   "id": "69c143d2-96d7-4231-a7a3-a1f9fc7b266d",
   "metadata": {},
   "outputs": [
    {
     "data": {
      "text/plain": [
       "5009"
      ]
     },
     "execution_count": 20,
     "metadata": {},
     "output_type": "execute_result"
    }
   ],
   "source": [
    "df.Order_ID.nunique()"
   ]
  },
  {
   "cell_type": "code",
   "execution_count": 21,
   "id": "08481544-7d96-489b-ac6c-541d05d62568",
   "metadata": {},
   "outputs": [
    {
     "data": {
      "text/plain": [
       "array(['Furniture', 'Office Supplies', 'Technology'], dtype=object)"
      ]
     },
     "execution_count": 21,
     "metadata": {},
     "output_type": "execute_result"
    }
   ],
   "source": [
    "df['Category'].unique()"
   ]
  },
  {
   "cell_type": "code",
   "execution_count": 22,
   "id": "de83fe59-86f8-4b6b-8aba-f71c9e47442c",
   "metadata": {},
   "outputs": [
    {
     "data": {
      "text/plain": [
       "array(['Consumer', 'Corporate', 'Home Office'], dtype=object)"
      ]
     },
     "execution_count": 22,
     "metadata": {},
     "output_type": "execute_result"
    }
   ],
   "source": [
    "df['Segment'].unique()"
   ]
  },
  {
   "cell_type": "code",
   "execution_count": 23,
   "id": "27b46db9-b041-46f6-b620-4f41f3b7b5d0",
   "metadata": {},
   "outputs": [
    {
     "name": "stdout",
     "output_type": "stream",
     "text": [
      "<class 'pandas.core.frame.DataFrame'>\n",
      "RangeIndex: 9994 entries, 0 to 9993\n",
      "Data columns (total 15 columns):\n",
      " #   Column         Non-Null Count  Dtype  \n",
      "---  ------         --------------  -----  \n",
      " 0   Row_ID         9994 non-null   int64  \n",
      " 1   Order_ID       9994 non-null   object \n",
      " 2   Product_Name   9994 non-null   object \n",
      " 3   Category       9994 non-null   object \n",
      " 4   Sales          9994 non-null   float64\n",
      " 5   Quantity       9994 non-null   int64  \n",
      " 6   Profit         9994 non-null   float64\n",
      " 7   Order_Date     9994 non-null   object \n",
      " 8   Customer_ID    9994 non-null   object \n",
      " 9   Customer_Name  9994 non-null   object \n",
      " 10  Segment        9994 non-null   object \n",
      " 11  State          9994 non-null   object \n",
      " 12  Region         9994 non-null   object \n",
      " 13  Product ID     9994 non-null   object \n",
      " 14  Discount       9994 non-null   float64\n",
      "dtypes: float64(3), int64(2), object(10)\n",
      "memory usage: 1.1+ MB\n"
     ]
    }
   ],
   "source": [
    "df.info() # check Dtype is correct or not "
   ]
  },
  {
   "cell_type": "code",
   "execution_count": 24,
   "id": "3d977b83-5a64-4569-b00b-7e42bab0760b",
   "metadata": {},
   "outputs": [],
   "source": [
    "df['Order_Date'] = pd.to_datetime(df['Order_Date'])   # Convert 'Date' column to datetime"
   ]
  },
  {
   "cell_type": "code",
   "execution_count": 25,
   "id": "4b001970-9a94-41d7-b065-d86aff69e4b5",
   "metadata": {},
   "outputs": [],
   "source": [
    "df.drop_duplicates(inplace=True) # duplicates "
   ]
  },
  {
   "cell_type": "code",
   "execution_count": 26,
   "id": "48cb50b4-4c77-4c1a-b9d4-3199df1bf761",
   "metadata": {},
   "outputs": [],
   "source": [
    "df.drop(columns=['Row_ID', 'Product ID'], inplace=True) # removed unnecessary columns"
   ]
  },
  {
   "cell_type": "code",
   "execution_count": 27,
   "id": "8616ee28-c913-4917-b42b-158d0233ff3d",
   "metadata": {},
   "outputs": [
    {
     "data": {
      "text/html": [
       "<div>\n",
       "<style scoped>\n",
       "    .dataframe tbody tr th:only-of-type {\n",
       "        vertical-align: middle;\n",
       "    }\n",
       "\n",
       "    .dataframe tbody tr th {\n",
       "        vertical-align: top;\n",
       "    }\n",
       "\n",
       "    .dataframe thead th {\n",
       "        text-align: right;\n",
       "    }\n",
       "</style>\n",
       "<table border=\"1\" class=\"dataframe\">\n",
       "  <thead>\n",
       "    <tr style=\"text-align: right;\">\n",
       "      <th></th>\n",
       "      <th>Order_ID</th>\n",
       "      <th>Product_Name</th>\n",
       "      <th>Category</th>\n",
       "      <th>Sales</th>\n",
       "      <th>Quantity</th>\n",
       "      <th>Profit</th>\n",
       "      <th>Order_Date</th>\n",
       "      <th>Customer_ID</th>\n",
       "      <th>Customer_Name</th>\n",
       "      <th>Segment</th>\n",
       "      <th>State</th>\n",
       "      <th>Region</th>\n",
       "      <th>Discount</th>\n",
       "    </tr>\n",
       "  </thead>\n",
       "  <tbody>\n",
       "    <tr>\n",
       "      <th>0</th>\n",
       "      <td>CA-2016-152156</td>\n",
       "      <td>Bush Somerset Collection Bookcase</td>\n",
       "      <td>Furniture</td>\n",
       "      <td>261.9600</td>\n",
       "      <td>2</td>\n",
       "      <td>41.9136</td>\n",
       "      <td>2016-11-08</td>\n",
       "      <td>CG-12520</td>\n",
       "      <td>Claire Gute</td>\n",
       "      <td>Consumer</td>\n",
       "      <td>Kentucky</td>\n",
       "      <td>South</td>\n",
       "      <td>0.00</td>\n",
       "    </tr>\n",
       "    <tr>\n",
       "      <th>1</th>\n",
       "      <td>CA-2016-152156</td>\n",
       "      <td>Hon Deluxe Fabric Upholstered Stacking Chairs,...</td>\n",
       "      <td>Furniture</td>\n",
       "      <td>731.9400</td>\n",
       "      <td>3</td>\n",
       "      <td>219.5820</td>\n",
       "      <td>2016-11-08</td>\n",
       "      <td>CG-12520</td>\n",
       "      <td>Claire Gute</td>\n",
       "      <td>Consumer</td>\n",
       "      <td>Kentucky</td>\n",
       "      <td>South</td>\n",
       "      <td>0.00</td>\n",
       "    </tr>\n",
       "    <tr>\n",
       "      <th>2</th>\n",
       "      <td>CA-2016-138688</td>\n",
       "      <td>Self-Adhesive Address Labels for Typewriters b...</td>\n",
       "      <td>Office Supplies</td>\n",
       "      <td>14.6200</td>\n",
       "      <td>2</td>\n",
       "      <td>6.8714</td>\n",
       "      <td>2016-06-12</td>\n",
       "      <td>DV-13045</td>\n",
       "      <td>Darrin Van Huff</td>\n",
       "      <td>Corporate</td>\n",
       "      <td>California</td>\n",
       "      <td>West</td>\n",
       "      <td>0.00</td>\n",
       "    </tr>\n",
       "    <tr>\n",
       "      <th>3</th>\n",
       "      <td>US-2015-108966</td>\n",
       "      <td>Bretford CR4500 Series Slim Rectangular Table</td>\n",
       "      <td>Furniture</td>\n",
       "      <td>957.5775</td>\n",
       "      <td>5</td>\n",
       "      <td>-383.0310</td>\n",
       "      <td>2015-10-11</td>\n",
       "      <td>SO-20335</td>\n",
       "      <td>Sean O'Donnell</td>\n",
       "      <td>Consumer</td>\n",
       "      <td>Florida</td>\n",
       "      <td>South</td>\n",
       "      <td>0.45</td>\n",
       "    </tr>\n",
       "    <tr>\n",
       "      <th>4</th>\n",
       "      <td>US-2015-108966</td>\n",
       "      <td>Eldon Fold 'N Roll Cart System</td>\n",
       "      <td>Office Supplies</td>\n",
       "      <td>22.3680</td>\n",
       "      <td>2</td>\n",
       "      <td>2.5164</td>\n",
       "      <td>2015-10-11</td>\n",
       "      <td>SO-20335</td>\n",
       "      <td>Sean O'Donnell</td>\n",
       "      <td>Consumer</td>\n",
       "      <td>Florida</td>\n",
       "      <td>South</td>\n",
       "      <td>0.20</td>\n",
       "    </tr>\n",
       "  </tbody>\n",
       "</table>\n",
       "</div>"
      ],
      "text/plain": [
       "         Order_ID                                       Product_Name  \\\n",
       "0  CA-2016-152156                  Bush Somerset Collection Bookcase   \n",
       "1  CA-2016-152156  Hon Deluxe Fabric Upholstered Stacking Chairs,...   \n",
       "2  CA-2016-138688  Self-Adhesive Address Labels for Typewriters b...   \n",
       "3  US-2015-108966      Bretford CR4500 Series Slim Rectangular Table   \n",
       "4  US-2015-108966                     Eldon Fold 'N Roll Cart System   \n",
       "\n",
       "          Category     Sales  Quantity    Profit Order_Date Customer_ID  \\\n",
       "0        Furniture  261.9600         2   41.9136 2016-11-08    CG-12520   \n",
       "1        Furniture  731.9400         3  219.5820 2016-11-08    CG-12520   \n",
       "2  Office Supplies   14.6200         2    6.8714 2016-06-12    DV-13045   \n",
       "3        Furniture  957.5775         5 -383.0310 2015-10-11    SO-20335   \n",
       "4  Office Supplies   22.3680         2    2.5164 2015-10-11    SO-20335   \n",
       "\n",
       "     Customer_Name    Segment       State Region  Discount  \n",
       "0      Claire Gute   Consumer    Kentucky  South      0.00  \n",
       "1      Claire Gute   Consumer    Kentucky  South      0.00  \n",
       "2  Darrin Van Huff  Corporate  California   West      0.00  \n",
       "3   Sean O'Donnell   Consumer     Florida  South      0.45  \n",
       "4   Sean O'Donnell   Consumer     Florida  South      0.20  "
      ]
     },
     "execution_count": 27,
     "metadata": {},
     "output_type": "execute_result"
    }
   ],
   "source": [
    "df.head()"
   ]
  },
  {
   "cell_type": "code",
   "execution_count": 28,
   "id": "94df7e9a-94b8-4830-840d-785a7723eca1",
   "metadata": {},
   "outputs": [
    {
     "name": "stdout",
     "output_type": "stream",
     "text": [
      "<class 'pandas.core.frame.DataFrame'>\n",
      "RangeIndex: 9994 entries, 0 to 9993\n",
      "Data columns (total 13 columns):\n",
      " #   Column         Non-Null Count  Dtype         \n",
      "---  ------         --------------  -----         \n",
      " 0   Order_ID       9994 non-null   object        \n",
      " 1   Product_Name   9994 non-null   object        \n",
      " 2   Category       9994 non-null   object        \n",
      " 3   Sales          9994 non-null   float64       \n",
      " 4   Quantity       9994 non-null   int64         \n",
      " 5   Profit         9994 non-null   float64       \n",
      " 6   Order_Date     9994 non-null   datetime64[ns]\n",
      " 7   Customer_ID    9994 non-null   object        \n",
      " 8   Customer_Name  9994 non-null   object        \n",
      " 9   Segment        9994 non-null   object        \n",
      " 10  State          9994 non-null   object        \n",
      " 11  Region         9994 non-null   object        \n",
      " 12  Discount       9994 non-null   float64       \n",
      "dtypes: datetime64[ns](1), float64(3), int64(1), object(8)\n",
      "memory usage: 1015.1+ KB\n"
     ]
    }
   ],
   "source": [
    "df.info()"
   ]
  },
  {
   "cell_type": "code",
   "execution_count": 29,
   "id": "5ef05c24-4ff0-4477-95ea-b3c62c705f8d",
   "metadata": {},
   "outputs": [
    {
     "data": {
      "text/plain": [
       "Order_ID         0\n",
       "Product_Name     0\n",
       "Category         0\n",
       "Sales            0\n",
       "Quantity         0\n",
       "Profit           0\n",
       "Order_Date       0\n",
       "Customer_ID      0\n",
       "Customer_Name    0\n",
       "Segment          0\n",
       "State            0\n",
       "Region           0\n",
       "Discount         0\n",
       "dtype: int64"
      ]
     },
     "execution_count": 29,
     "metadata": {},
     "output_type": "execute_result"
    }
   ],
   "source": [
    "df.isnull().sum()"
   ]
  },
  {
   "cell_type": "code",
   "execution_count": 30,
   "id": "218d7bdb-2ed8-4708-83c6-66881aae8aaa",
   "metadata": {},
   "outputs": [
    {
     "data": {
      "text/plain": [
       "Order_ID            0\n",
       "Product_Name        0\n",
       "Category            0\n",
       "Sales               0\n",
       "Quantity            0\n",
       "Profit             65\n",
       "Order_Date          0\n",
       "Customer_ID         0\n",
       "Customer_Name       0\n",
       "Segment             0\n",
       "State               0\n",
       "Region              0\n",
       "Discount         4798\n",
       "dtype: int64"
      ]
     },
     "execution_count": 30,
     "metadata": {},
     "output_type": "execute_result"
    }
   ],
   "source": [
    "(df == 0).sum()"
   ]
  },
  {
   "cell_type": "code",
   "execution_count": 31,
   "id": "65b2ebc7-5e6c-4510-989f-0b2b7328f742",
   "metadata": {},
   "outputs": [
    {
     "data": {
      "text/html": [
       "<div>\n",
       "<style scoped>\n",
       "    .dataframe tbody tr th:only-of-type {\n",
       "        vertical-align: middle;\n",
       "    }\n",
       "\n",
       "    .dataframe tbody tr th {\n",
       "        vertical-align: top;\n",
       "    }\n",
       "\n",
       "    .dataframe thead th {\n",
       "        text-align: right;\n",
       "    }\n",
       "</style>\n",
       "<table border=\"1\" class=\"dataframe\">\n",
       "  <thead>\n",
       "    <tr style=\"text-align: right;\">\n",
       "      <th></th>\n",
       "      <th>Order_ID</th>\n",
       "      <th>Product_Name</th>\n",
       "      <th>Category</th>\n",
       "      <th>Sales</th>\n",
       "      <th>Quantity</th>\n",
       "      <th>Profit</th>\n",
       "      <th>Order_Date</th>\n",
       "      <th>Customer_ID</th>\n",
       "      <th>Customer_Name</th>\n",
       "      <th>Segment</th>\n",
       "      <th>State</th>\n",
       "      <th>Region</th>\n",
       "      <th>Discount</th>\n",
       "    </tr>\n",
       "  </thead>\n",
       "  <tbody>\n",
       "    <tr>\n",
       "      <th>234</th>\n",
       "      <td>US-2017-100930</td>\n",
       "      <td>Tenex Contemporary Contur Chairmats for Low an...</td>\n",
       "      <td>Furniture</td>\n",
       "      <td>258.072</td>\n",
       "      <td>3</td>\n",
       "      <td>0.0</td>\n",
       "      <td>2017-04-07</td>\n",
       "      <td>CS-12400</td>\n",
       "      <td>Christopher Schild</td>\n",
       "      <td>Home Office</td>\n",
       "      <td>Florida</td>\n",
       "      <td>South</td>\n",
       "      <td>0.2</td>\n",
       "    </tr>\n",
       "    <tr>\n",
       "      <th>551</th>\n",
       "      <td>CA-2016-136406</td>\n",
       "      <td>HON 5400 Series Task Chairs for Big and Tall</td>\n",
       "      <td>Furniture</td>\n",
       "      <td>1121.568</td>\n",
       "      <td>2</td>\n",
       "      <td>0.0</td>\n",
       "      <td>2016-04-15</td>\n",
       "      <td>BD-11320</td>\n",
       "      <td>Bill Donatelli</td>\n",
       "      <td>Consumer</td>\n",
       "      <td>California</td>\n",
       "      <td>West</td>\n",
       "      <td>0.2</td>\n",
       "    </tr>\n",
       "    <tr>\n",
       "      <th>563</th>\n",
       "      <td>CA-2015-130736</td>\n",
       "      <td>Alliance Big Bands Rubber Bands, 12/Pack</td>\n",
       "      <td>Office Supplies</td>\n",
       "      <td>3.960</td>\n",
       "      <td>2</td>\n",
       "      <td>0.0</td>\n",
       "      <td>2015-12-07</td>\n",
       "      <td>JF-15490</td>\n",
       "      <td>Jeremy Farry</td>\n",
       "      <td>Consumer</td>\n",
       "      <td>Washington</td>\n",
       "      <td>West</td>\n",
       "      <td>0.0</td>\n",
       "    </tr>\n",
       "    <tr>\n",
       "      <th>569</th>\n",
       "      <td>CA-2017-156951</td>\n",
       "      <td>Hon Every-Day Series Multi-Task Chairs</td>\n",
       "      <td>Furniture</td>\n",
       "      <td>451.152</td>\n",
       "      <td>3</td>\n",
       "      <td>0.0</td>\n",
       "      <td>2017-10-01</td>\n",
       "      <td>EB-13840</td>\n",
       "      <td>Ellis Ballard</td>\n",
       "      <td>Corporate</td>\n",
       "      <td>Washington</td>\n",
       "      <td>West</td>\n",
       "      <td>0.2</td>\n",
       "    </tr>\n",
       "    <tr>\n",
       "      <th>819</th>\n",
       "      <td>CA-2014-140858</td>\n",
       "      <td>Global Leather Executive Chair</td>\n",
       "      <td>Furniture</td>\n",
       "      <td>1228.465</td>\n",
       "      <td>5</td>\n",
       "      <td>0.0</td>\n",
       "      <td>2014-06-28</td>\n",
       "      <td>CA-12775</td>\n",
       "      <td>Cynthia Arntzen</td>\n",
       "      <td>Consumer</td>\n",
       "      <td>Pennsylvania</td>\n",
       "      <td>East</td>\n",
       "      <td>0.3</td>\n",
       "    </tr>\n",
       "  </tbody>\n",
       "</table>\n",
       "</div>"
      ],
      "text/plain": [
       "           Order_ID                                       Product_Name  \\\n",
       "234  US-2017-100930  Tenex Contemporary Contur Chairmats for Low an...   \n",
       "551  CA-2016-136406       HON 5400 Series Task Chairs for Big and Tall   \n",
       "563  CA-2015-130736           Alliance Big Bands Rubber Bands, 12/Pack   \n",
       "569  CA-2017-156951             Hon Every-Day Series Multi-Task Chairs   \n",
       "819  CA-2014-140858                     Global Leather Executive Chair   \n",
       "\n",
       "            Category     Sales  Quantity  Profit Order_Date Customer_ID  \\\n",
       "234        Furniture   258.072         3     0.0 2017-04-07    CS-12400   \n",
       "551        Furniture  1121.568         2     0.0 2016-04-15    BD-11320   \n",
       "563  Office Supplies     3.960         2     0.0 2015-12-07    JF-15490   \n",
       "569        Furniture   451.152         3     0.0 2017-10-01    EB-13840   \n",
       "819        Furniture  1228.465         5     0.0 2014-06-28    CA-12775   \n",
       "\n",
       "          Customer_Name      Segment         State Region  Discount  \n",
       "234  Christopher Schild  Home Office       Florida  South       0.2  \n",
       "551      Bill Donatelli     Consumer    California   West       0.2  \n",
       "563        Jeremy Farry     Consumer    Washington   West       0.0  \n",
       "569       Ellis Ballard    Corporate    Washington   West       0.2  \n",
       "819     Cynthia Arntzen     Consumer  Pennsylvania   East       0.3  "
      ]
     },
     "execution_count": 31,
     "metadata": {},
     "output_type": "execute_result"
    }
   ],
   "source": [
    "df[df['Profit'] == 0].head()"
   ]
  },
  {
   "cell_type": "code",
   "execution_count": 32,
   "id": "46c21d7b-94f6-44f8-b471-943d62f09a29",
   "metadata": {},
   "outputs": [
    {
     "data": {
      "text/html": [
       "<div>\n",
       "<style scoped>\n",
       "    .dataframe tbody tr th:only-of-type {\n",
       "        vertical-align: middle;\n",
       "    }\n",
       "\n",
       "    .dataframe tbody tr th {\n",
       "        vertical-align: top;\n",
       "    }\n",
       "\n",
       "    .dataframe thead th {\n",
       "        text-align: right;\n",
       "    }\n",
       "</style>\n",
       "<table border=\"1\" class=\"dataframe\">\n",
       "  <thead>\n",
       "    <tr style=\"text-align: right;\">\n",
       "      <th></th>\n",
       "      <th>Sales</th>\n",
       "      <th>Quantity</th>\n",
       "      <th>Profit</th>\n",
       "      <th>Order_Date</th>\n",
       "      <th>Discount</th>\n",
       "    </tr>\n",
       "  </thead>\n",
       "  <tbody>\n",
       "    <tr>\n",
       "      <th>count</th>\n",
       "      <td>9994.000000</td>\n",
       "      <td>9994.000000</td>\n",
       "      <td>9994.000000</td>\n",
       "      <td>9994</td>\n",
       "      <td>9994.000000</td>\n",
       "    </tr>\n",
       "    <tr>\n",
       "      <th>mean</th>\n",
       "      <td>229.858001</td>\n",
       "      <td>3.789574</td>\n",
       "      <td>28.656896</td>\n",
       "      <td>2016-04-30 00:07:12.259355648</td>\n",
       "      <td>0.156203</td>\n",
       "    </tr>\n",
       "    <tr>\n",
       "      <th>min</th>\n",
       "      <td>0.444000</td>\n",
       "      <td>1.000000</td>\n",
       "      <td>-6599.978000</td>\n",
       "      <td>2014-01-03 00:00:00</td>\n",
       "      <td>0.000000</td>\n",
       "    </tr>\n",
       "    <tr>\n",
       "      <th>25%</th>\n",
       "      <td>17.280000</td>\n",
       "      <td>2.000000</td>\n",
       "      <td>1.728750</td>\n",
       "      <td>2015-05-23 00:00:00</td>\n",
       "      <td>0.000000</td>\n",
       "    </tr>\n",
       "    <tr>\n",
       "      <th>50%</th>\n",
       "      <td>54.490000</td>\n",
       "      <td>3.000000</td>\n",
       "      <td>8.666500</td>\n",
       "      <td>2016-06-26 00:00:00</td>\n",
       "      <td>0.200000</td>\n",
       "    </tr>\n",
       "    <tr>\n",
       "      <th>75%</th>\n",
       "      <td>209.940000</td>\n",
       "      <td>5.000000</td>\n",
       "      <td>29.364000</td>\n",
       "      <td>2017-05-14 00:00:00</td>\n",
       "      <td>0.200000</td>\n",
       "    </tr>\n",
       "    <tr>\n",
       "      <th>max</th>\n",
       "      <td>22638.480000</td>\n",
       "      <td>14.000000</td>\n",
       "      <td>8399.976000</td>\n",
       "      <td>2017-12-30 00:00:00</td>\n",
       "      <td>0.800000</td>\n",
       "    </tr>\n",
       "    <tr>\n",
       "      <th>std</th>\n",
       "      <td>623.245101</td>\n",
       "      <td>2.225110</td>\n",
       "      <td>234.260108</td>\n",
       "      <td>NaN</td>\n",
       "      <td>0.206452</td>\n",
       "    </tr>\n",
       "  </tbody>\n",
       "</table>\n",
       "</div>"
      ],
      "text/plain": [
       "              Sales     Quantity       Profit                     Order_Date  \\\n",
       "count   9994.000000  9994.000000  9994.000000                           9994   \n",
       "mean     229.858001     3.789574    28.656896  2016-04-30 00:07:12.259355648   \n",
       "min        0.444000     1.000000 -6599.978000            2014-01-03 00:00:00   \n",
       "25%       17.280000     2.000000     1.728750            2015-05-23 00:00:00   \n",
       "50%       54.490000     3.000000     8.666500            2016-06-26 00:00:00   \n",
       "75%      209.940000     5.000000    29.364000            2017-05-14 00:00:00   \n",
       "max    22638.480000    14.000000  8399.976000            2017-12-30 00:00:00   \n",
       "std      623.245101     2.225110   234.260108                            NaN   \n",
       "\n",
       "          Discount  \n",
       "count  9994.000000  \n",
       "mean      0.156203  \n",
       "min       0.000000  \n",
       "25%       0.000000  \n",
       "50%       0.200000  \n",
       "75%       0.200000  \n",
       "max       0.800000  \n",
       "std       0.206452  "
      ]
     },
     "execution_count": 32,
     "metadata": {},
     "output_type": "execute_result"
    }
   ],
   "source": [
    "df.describe()"
   ]
  },
  {
   "cell_type": "code",
   "execution_count": 33,
   "id": "67d38f9c-d7cf-43a6-89f4-8c3a2f0b4f4b",
   "metadata": {},
   "outputs": [],
   "source": [
    "#I see outliers in the dataset, I need to replace the zero values in the profit with the median"
   ]
  },
  {
   "cell_type": "code",
   "execution_count": 34,
   "id": "3a465295-cd91-4ebc-8578-88387af70c66",
   "metadata": {},
   "outputs": [],
   "source": [
    "median_profit = df['Profit'].median() #calulate median value for replaceing zeros"
   ]
  },
  {
   "cell_type": "code",
   "execution_count": 35,
   "id": "0ed5eabc-bdea-4b8e-b2fc-8ecb8fda7cf1",
   "metadata": {},
   "outputs": [
    {
     "data": {
      "text/plain": [
       "8.6665"
      ]
     },
     "execution_count": 35,
     "metadata": {},
     "output_type": "execute_result"
    }
   ],
   "source": [
    "median_profit"
   ]
  },
  {
   "cell_type": "code",
   "execution_count": 36,
   "id": "342c3c64-781f-4d1a-9389-629e9d1e2a71",
   "metadata": {},
   "outputs": [],
   "source": [
    "df['Profit'] = df['Profit'].replace(0, 8.6665) #  zero replaced to median "
   ]
  },
  {
   "cell_type": "code",
   "execution_count": 37,
   "id": "0ba0707d-f744-4d1a-86fc-93969fd8942a",
   "metadata": {},
   "outputs": [
    {
     "data": {
      "text/html": [
       "<div>\n",
       "<style scoped>\n",
       "    .dataframe tbody tr th:only-of-type {\n",
       "        vertical-align: middle;\n",
       "    }\n",
       "\n",
       "    .dataframe tbody tr th {\n",
       "        vertical-align: top;\n",
       "    }\n",
       "\n",
       "    .dataframe thead th {\n",
       "        text-align: right;\n",
       "    }\n",
       "</style>\n",
       "<table border=\"1\" class=\"dataframe\">\n",
       "  <thead>\n",
       "    <tr style=\"text-align: right;\">\n",
       "      <th></th>\n",
       "      <th>Sales</th>\n",
       "      <th>Quantity</th>\n",
       "      <th>Profit</th>\n",
       "      <th>Order_Date</th>\n",
       "      <th>Discount</th>\n",
       "    </tr>\n",
       "  </thead>\n",
       "  <tbody>\n",
       "    <tr>\n",
       "      <th>count</th>\n",
       "      <td>9994.000000</td>\n",
       "      <td>9994.000000</td>\n",
       "      <td>9994.000000</td>\n",
       "      <td>9994</td>\n",
       "      <td>9994.000000</td>\n",
       "    </tr>\n",
       "    <tr>\n",
       "      <th>mean</th>\n",
       "      <td>229.858001</td>\n",
       "      <td>3.789574</td>\n",
       "      <td>28.713262</td>\n",
       "      <td>2016-04-30 00:07:12.259355648</td>\n",
       "      <td>0.156203</td>\n",
       "    </tr>\n",
       "    <tr>\n",
       "      <th>min</th>\n",
       "      <td>0.444000</td>\n",
       "      <td>1.000000</td>\n",
       "      <td>-6599.978000</td>\n",
       "      <td>2014-01-03 00:00:00</td>\n",
       "      <td>0.000000</td>\n",
       "    </tr>\n",
       "    <tr>\n",
       "      <th>25%</th>\n",
       "      <td>17.280000</td>\n",
       "      <td>2.000000</td>\n",
       "      <td>1.870400</td>\n",
       "      <td>2015-05-23 00:00:00</td>\n",
       "      <td>0.000000</td>\n",
       "    </tr>\n",
       "    <tr>\n",
       "      <th>50%</th>\n",
       "      <td>54.490000</td>\n",
       "      <td>3.000000</td>\n",
       "      <td>8.668750</td>\n",
       "      <td>2016-06-26 00:00:00</td>\n",
       "      <td>0.200000</td>\n",
       "    </tr>\n",
       "    <tr>\n",
       "      <th>75%</th>\n",
       "      <td>209.940000</td>\n",
       "      <td>5.000000</td>\n",
       "      <td>29.364000</td>\n",
       "      <td>2017-05-14 00:00:00</td>\n",
       "      <td>0.200000</td>\n",
       "    </tr>\n",
       "    <tr>\n",
       "      <th>max</th>\n",
       "      <td>22638.480000</td>\n",
       "      <td>14.000000</td>\n",
       "      <td>8399.976000</td>\n",
       "      <td>2017-12-30 00:00:00</td>\n",
       "      <td>0.800000</td>\n",
       "    </tr>\n",
       "    <tr>\n",
       "      <th>std</th>\n",
       "      <td>623.245101</td>\n",
       "      <td>2.225110</td>\n",
       "      <td>234.254248</td>\n",
       "      <td>NaN</td>\n",
       "      <td>0.206452</td>\n",
       "    </tr>\n",
       "  </tbody>\n",
       "</table>\n",
       "</div>"
      ],
      "text/plain": [
       "              Sales     Quantity       Profit                     Order_Date  \\\n",
       "count   9994.000000  9994.000000  9994.000000                           9994   \n",
       "mean     229.858001     3.789574    28.713262  2016-04-30 00:07:12.259355648   \n",
       "min        0.444000     1.000000 -6599.978000            2014-01-03 00:00:00   \n",
       "25%       17.280000     2.000000     1.870400            2015-05-23 00:00:00   \n",
       "50%       54.490000     3.000000     8.668750            2016-06-26 00:00:00   \n",
       "75%      209.940000     5.000000    29.364000            2017-05-14 00:00:00   \n",
       "max    22638.480000    14.000000  8399.976000            2017-12-30 00:00:00   \n",
       "std      623.245101     2.225110   234.254248                            NaN   \n",
       "\n",
       "          Discount  \n",
       "count  9994.000000  \n",
       "mean      0.156203  \n",
       "min       0.000000  \n",
       "25%       0.000000  \n",
       "50%       0.200000  \n",
       "75%       0.200000  \n",
       "max       0.800000  \n",
       "std       0.206452  "
      ]
     },
     "execution_count": 37,
     "metadata": {},
     "output_type": "execute_result"
    }
   ],
   "source": [
    "df.describe()"
   ]
  },
  {
   "cell_type": "code",
   "execution_count": 38,
   "id": "c0cf4a74-792b-4f8c-b128-abbcebb34ac9",
   "metadata": {},
   "outputs": [
    {
     "data": {
      "text/plain": [
       "Order_ID            0\n",
       "Product_Name        0\n",
       "Category            0\n",
       "Sales               0\n",
       "Quantity            0\n",
       "Profit              0\n",
       "Order_Date          0\n",
       "Customer_ID         0\n",
       "Customer_Name       0\n",
       "Segment             0\n",
       "State               0\n",
       "Region              0\n",
       "Discount         4798\n",
       "dtype: int64"
      ]
     },
     "execution_count": 38,
     "metadata": {},
     "output_type": "execute_result"
    }
   ],
   "source": [
    "(df == 0).sum()"
   ]
  },
  {
   "cell_type": "markdown",
   "id": "db1ea64e-bc5c-42fc-9662-1c3ebcf090c1",
   "metadata": {},
   "source": [
    "## Add some columns like Profit margin ,month,year for better analysis"
   ]
  },
  {
   "cell_type": "code",
   "execution_count": 39,
   "id": "447797e5-c30e-4b33-9adc-aba838933bd5",
   "metadata": {},
   "outputs": [],
   "source": [
    "df['Profit_Margin'] = df['Profit'] / df['Sales'] # added column as profit_margin "
   ]
  },
  {
   "cell_type": "code",
   "execution_count": 40,
   "id": "e18bd0a0-44cd-41eb-8443-381e40eda595",
   "metadata": {},
   "outputs": [],
   "source": [
    "df['Order_Month'] = df['Order_Date'].dt.strftime('%B')\n",
    "df['Order_Year'] = df['Order_Date'].dt.year"
   ]
  },
  {
   "cell_type": "code",
   "execution_count": 41,
   "id": "720cbf7f-3f39-414c-85e0-7b9e7d964eee",
   "metadata": {},
   "outputs": [
    {
     "data": {
      "text/html": [
       "<div>\n",
       "<style scoped>\n",
       "    .dataframe tbody tr th:only-of-type {\n",
       "        vertical-align: middle;\n",
       "    }\n",
       "\n",
       "    .dataframe tbody tr th {\n",
       "        vertical-align: top;\n",
       "    }\n",
       "\n",
       "    .dataframe thead th {\n",
       "        text-align: right;\n",
       "    }\n",
       "</style>\n",
       "<table border=\"1\" class=\"dataframe\">\n",
       "  <thead>\n",
       "    <tr style=\"text-align: right;\">\n",
       "      <th></th>\n",
       "      <th>Order_ID</th>\n",
       "      <th>Product_Name</th>\n",
       "      <th>Category</th>\n",
       "      <th>Sales</th>\n",
       "      <th>Quantity</th>\n",
       "      <th>Profit</th>\n",
       "      <th>Order_Date</th>\n",
       "      <th>Customer_ID</th>\n",
       "      <th>Customer_Name</th>\n",
       "      <th>Segment</th>\n",
       "      <th>State</th>\n",
       "      <th>Region</th>\n",
       "      <th>Discount</th>\n",
       "      <th>Profit_Margin</th>\n",
       "      <th>Order_Month</th>\n",
       "      <th>Order_Year</th>\n",
       "    </tr>\n",
       "  </thead>\n",
       "  <tbody>\n",
       "    <tr>\n",
       "      <th>0</th>\n",
       "      <td>CA-2016-152156</td>\n",
       "      <td>Bush Somerset Collection Bookcase</td>\n",
       "      <td>Furniture</td>\n",
       "      <td>261.9600</td>\n",
       "      <td>2</td>\n",
       "      <td>41.9136</td>\n",
       "      <td>2016-11-08</td>\n",
       "      <td>CG-12520</td>\n",
       "      <td>Claire Gute</td>\n",
       "      <td>Consumer</td>\n",
       "      <td>Kentucky</td>\n",
       "      <td>South</td>\n",
       "      <td>0.00</td>\n",
       "      <td>0.1600</td>\n",
       "      <td>November</td>\n",
       "      <td>2016</td>\n",
       "    </tr>\n",
       "    <tr>\n",
       "      <th>1</th>\n",
       "      <td>CA-2016-152156</td>\n",
       "      <td>Hon Deluxe Fabric Upholstered Stacking Chairs,...</td>\n",
       "      <td>Furniture</td>\n",
       "      <td>731.9400</td>\n",
       "      <td>3</td>\n",
       "      <td>219.5820</td>\n",
       "      <td>2016-11-08</td>\n",
       "      <td>CG-12520</td>\n",
       "      <td>Claire Gute</td>\n",
       "      <td>Consumer</td>\n",
       "      <td>Kentucky</td>\n",
       "      <td>South</td>\n",
       "      <td>0.00</td>\n",
       "      <td>0.3000</td>\n",
       "      <td>November</td>\n",
       "      <td>2016</td>\n",
       "    </tr>\n",
       "    <tr>\n",
       "      <th>2</th>\n",
       "      <td>CA-2016-138688</td>\n",
       "      <td>Self-Adhesive Address Labels for Typewriters b...</td>\n",
       "      <td>Office Supplies</td>\n",
       "      <td>14.6200</td>\n",
       "      <td>2</td>\n",
       "      <td>6.8714</td>\n",
       "      <td>2016-06-12</td>\n",
       "      <td>DV-13045</td>\n",
       "      <td>Darrin Van Huff</td>\n",
       "      <td>Corporate</td>\n",
       "      <td>California</td>\n",
       "      <td>West</td>\n",
       "      <td>0.00</td>\n",
       "      <td>0.4700</td>\n",
       "      <td>June</td>\n",
       "      <td>2016</td>\n",
       "    </tr>\n",
       "    <tr>\n",
       "      <th>3</th>\n",
       "      <td>US-2015-108966</td>\n",
       "      <td>Bretford CR4500 Series Slim Rectangular Table</td>\n",
       "      <td>Furniture</td>\n",
       "      <td>957.5775</td>\n",
       "      <td>5</td>\n",
       "      <td>-383.0310</td>\n",
       "      <td>2015-10-11</td>\n",
       "      <td>SO-20335</td>\n",
       "      <td>Sean O'Donnell</td>\n",
       "      <td>Consumer</td>\n",
       "      <td>Florida</td>\n",
       "      <td>South</td>\n",
       "      <td>0.45</td>\n",
       "      <td>-0.4000</td>\n",
       "      <td>October</td>\n",
       "      <td>2015</td>\n",
       "    </tr>\n",
       "    <tr>\n",
       "      <th>4</th>\n",
       "      <td>US-2015-108966</td>\n",
       "      <td>Eldon Fold 'N Roll Cart System</td>\n",
       "      <td>Office Supplies</td>\n",
       "      <td>22.3680</td>\n",
       "      <td>2</td>\n",
       "      <td>2.5164</td>\n",
       "      <td>2015-10-11</td>\n",
       "      <td>SO-20335</td>\n",
       "      <td>Sean O'Donnell</td>\n",
       "      <td>Consumer</td>\n",
       "      <td>Florida</td>\n",
       "      <td>South</td>\n",
       "      <td>0.20</td>\n",
       "      <td>0.1125</td>\n",
       "      <td>October</td>\n",
       "      <td>2015</td>\n",
       "    </tr>\n",
       "  </tbody>\n",
       "</table>\n",
       "</div>"
      ],
      "text/plain": [
       "         Order_ID                                       Product_Name  \\\n",
       "0  CA-2016-152156                  Bush Somerset Collection Bookcase   \n",
       "1  CA-2016-152156  Hon Deluxe Fabric Upholstered Stacking Chairs,...   \n",
       "2  CA-2016-138688  Self-Adhesive Address Labels for Typewriters b...   \n",
       "3  US-2015-108966      Bretford CR4500 Series Slim Rectangular Table   \n",
       "4  US-2015-108966                     Eldon Fold 'N Roll Cart System   \n",
       "\n",
       "          Category     Sales  Quantity    Profit Order_Date Customer_ID  \\\n",
       "0        Furniture  261.9600         2   41.9136 2016-11-08    CG-12520   \n",
       "1        Furniture  731.9400         3  219.5820 2016-11-08    CG-12520   \n",
       "2  Office Supplies   14.6200         2    6.8714 2016-06-12    DV-13045   \n",
       "3        Furniture  957.5775         5 -383.0310 2015-10-11    SO-20335   \n",
       "4  Office Supplies   22.3680         2    2.5164 2015-10-11    SO-20335   \n",
       "\n",
       "     Customer_Name    Segment       State Region  Discount  Profit_Margin  \\\n",
       "0      Claire Gute   Consumer    Kentucky  South      0.00         0.1600   \n",
       "1      Claire Gute   Consumer    Kentucky  South      0.00         0.3000   \n",
       "2  Darrin Van Huff  Corporate  California   West      0.00         0.4700   \n",
       "3   Sean O'Donnell   Consumer     Florida  South      0.45        -0.4000   \n",
       "4   Sean O'Donnell   Consumer     Florida  South      0.20         0.1125   \n",
       "\n",
       "  Order_Month  Order_Year  \n",
       "0    November        2016  \n",
       "1    November        2016  \n",
       "2        June        2016  \n",
       "3     October        2015  \n",
       "4     October        2015  "
      ]
     },
     "execution_count": 41,
     "metadata": {},
     "output_type": "execute_result"
    }
   ],
   "source": [
    "df.head()"
   ]
  },
  {
   "cell_type": "markdown",
   "id": "e4d8edb2-e247-4d94-bc44-decce120d52a",
   "metadata": {},
   "source": [
    "### Final dataset"
   ]
  },
  {
   "cell_type": "code",
   "execution_count": 42,
   "id": "d37ee1fd-646b-4cc9-9153-e22693442134",
   "metadata": {},
   "outputs": [
    {
     "data": {
      "text/html": [
       "<div>\n",
       "<style scoped>\n",
       "    .dataframe tbody tr th:only-of-type {\n",
       "        vertical-align: middle;\n",
       "    }\n",
       "\n",
       "    .dataframe tbody tr th {\n",
       "        vertical-align: top;\n",
       "    }\n",
       "\n",
       "    .dataframe thead th {\n",
       "        text-align: right;\n",
       "    }\n",
       "</style>\n",
       "<table border=\"1\" class=\"dataframe\">\n",
       "  <thead>\n",
       "    <tr style=\"text-align: right;\">\n",
       "      <th></th>\n",
       "      <th>Sales</th>\n",
       "      <th>Quantity</th>\n",
       "      <th>Profit</th>\n",
       "      <th>Order_Date</th>\n",
       "      <th>Discount</th>\n",
       "      <th>Profit_Margin</th>\n",
       "      <th>Order_Year</th>\n",
       "    </tr>\n",
       "  </thead>\n",
       "  <tbody>\n",
       "    <tr>\n",
       "      <th>count</th>\n",
       "      <td>9994.00</td>\n",
       "      <td>9994.00</td>\n",
       "      <td>9994.00</td>\n",
       "      <td>9994</td>\n",
       "      <td>9994.00</td>\n",
       "      <td>9994.00</td>\n",
       "      <td>9994.00</td>\n",
       "    </tr>\n",
       "    <tr>\n",
       "      <th>mean</th>\n",
       "      <td>229.86</td>\n",
       "      <td>3.79</td>\n",
       "      <td>28.71</td>\n",
       "      <td>2016-04-30 00:07:12.259355648</td>\n",
       "      <td>0.16</td>\n",
       "      <td>0.12</td>\n",
       "      <td>2015.72</td>\n",
       "    </tr>\n",
       "    <tr>\n",
       "      <th>min</th>\n",
       "      <td>0.44</td>\n",
       "      <td>1.00</td>\n",
       "      <td>-6599.98</td>\n",
       "      <td>2014-01-03 00:00:00</td>\n",
       "      <td>0.00</td>\n",
       "      <td>-2.75</td>\n",
       "      <td>2014.00</td>\n",
       "    </tr>\n",
       "    <tr>\n",
       "      <th>25%</th>\n",
       "      <td>17.28</td>\n",
       "      <td>2.00</td>\n",
       "      <td>1.87</td>\n",
       "      <td>2015-05-23 00:00:00</td>\n",
       "      <td>0.00</td>\n",
       "      <td>0.08</td>\n",
       "      <td>2015.00</td>\n",
       "    </tr>\n",
       "    <tr>\n",
       "      <th>50%</th>\n",
       "      <td>54.49</td>\n",
       "      <td>3.00</td>\n",
       "      <td>8.67</td>\n",
       "      <td>2016-06-26 00:00:00</td>\n",
       "      <td>0.20</td>\n",
       "      <td>0.27</td>\n",
       "      <td>2016.00</td>\n",
       "    </tr>\n",
       "    <tr>\n",
       "      <th>75%</th>\n",
       "      <td>209.94</td>\n",
       "      <td>5.00</td>\n",
       "      <td>29.36</td>\n",
       "      <td>2017-05-14 00:00:00</td>\n",
       "      <td>0.20</td>\n",
       "      <td>0.36</td>\n",
       "      <td>2017.00</td>\n",
       "    </tr>\n",
       "    <tr>\n",
       "      <th>max</th>\n",
       "      <td>22638.48</td>\n",
       "      <td>14.00</td>\n",
       "      <td>8399.98</td>\n",
       "      <td>2017-12-30 00:00:00</td>\n",
       "      <td>0.80</td>\n",
       "      <td>2.19</td>\n",
       "      <td>2017.00</td>\n",
       "    </tr>\n",
       "    <tr>\n",
       "      <th>std</th>\n",
       "      <td>623.25</td>\n",
       "      <td>2.23</td>\n",
       "      <td>234.25</td>\n",
       "      <td>NaN</td>\n",
       "      <td>0.21</td>\n",
       "      <td>0.47</td>\n",
       "      <td>1.12</td>\n",
       "    </tr>\n",
       "  </tbody>\n",
       "</table>\n",
       "</div>"
      ],
      "text/plain": [
       "          Sales  Quantity   Profit                     Order_Date  Discount  \\\n",
       "count   9994.00   9994.00  9994.00                           9994   9994.00   \n",
       "mean     229.86      3.79    28.71  2016-04-30 00:07:12.259355648      0.16   \n",
       "min        0.44      1.00 -6599.98            2014-01-03 00:00:00      0.00   \n",
       "25%       17.28      2.00     1.87            2015-05-23 00:00:00      0.00   \n",
       "50%       54.49      3.00     8.67            2016-06-26 00:00:00      0.20   \n",
       "75%      209.94      5.00    29.36            2017-05-14 00:00:00      0.20   \n",
       "max    22638.48     14.00  8399.98            2017-12-30 00:00:00      0.80   \n",
       "std      623.25      2.23   234.25                            NaN      0.21   \n",
       "\n",
       "       Profit_Margin  Order_Year  \n",
       "count        9994.00     9994.00  \n",
       "mean            0.12     2015.72  \n",
       "min            -2.75     2014.00  \n",
       "25%             0.08     2015.00  \n",
       "50%             0.27     2016.00  \n",
       "75%             0.36     2017.00  \n",
       "max             2.19     2017.00  \n",
       "std             0.47        1.12  "
      ]
     },
     "execution_count": 42,
     "metadata": {},
     "output_type": "execute_result"
    }
   ],
   "source": [
    "df.describe().round(2)"
   ]
  },
  {
   "cell_type": "code",
   "execution_count": 43,
   "id": "1ea79ca9-0c8d-4d3f-9e46-62108d77f5ae",
   "metadata": {},
   "outputs": [],
   "source": [
    "#The average sale is around $230, but some orders are much bigger or smaller\n",
    "#Some deals lost a lot of money, maybe because of big discounts up to 80%\n",
    "#Most people buy 1 to 5 items at a time. Around 25% of orders had no discount\n",
    "#On average, the profit made is good, but a few orders lost a lot and need to be checked"
   ]
  },
  {
   "cell_type": "code",
   "execution_count": 44,
   "id": "60baae2b-c946-4187-9090-7832d882a93a",
   "metadata": {},
   "outputs": [
    {
     "data": {
      "text/html": [
       "<div>\n",
       "<style scoped>\n",
       "    .dataframe tbody tr th:only-of-type {\n",
       "        vertical-align: middle;\n",
       "    }\n",
       "\n",
       "    .dataframe tbody tr th {\n",
       "        vertical-align: top;\n",
       "    }\n",
       "\n",
       "    .dataframe thead th {\n",
       "        text-align: right;\n",
       "    }\n",
       "</style>\n",
       "<table border=\"1\" class=\"dataframe\">\n",
       "  <thead>\n",
       "    <tr style=\"text-align: right;\">\n",
       "      <th></th>\n",
       "      <th>Order_Year</th>\n",
       "      <th>Sales</th>\n",
       "      <th>Profit</th>\n",
       "      <th>Quantity</th>\n",
       "    </tr>\n",
       "  </thead>\n",
       "  <tbody>\n",
       "    <tr>\n",
       "      <th>0</th>\n",
       "      <td>2014</td>\n",
       "      <td>484247.50</td>\n",
       "      <td>49691.30</td>\n",
       "      <td>7581</td>\n",
       "    </tr>\n",
       "    <tr>\n",
       "      <th>1</th>\n",
       "      <td>2015</td>\n",
       "      <td>470532.51</td>\n",
       "      <td>61696.60</td>\n",
       "      <td>7979</td>\n",
       "    </tr>\n",
       "    <tr>\n",
       "      <th>2</th>\n",
       "      <td>2016</td>\n",
       "      <td>609205.60</td>\n",
       "      <td>81968.50</td>\n",
       "      <td>9837</td>\n",
       "    </tr>\n",
       "    <tr>\n",
       "      <th>3</th>\n",
       "      <td>2017</td>\n",
       "      <td>733215.26</td>\n",
       "      <td>93603.93</td>\n",
       "      <td>12476</td>\n",
       "    </tr>\n",
       "  </tbody>\n",
       "</table>\n",
       "</div>"
      ],
      "text/plain": [
       "   Order_Year      Sales    Profit  Quantity\n",
       "0        2014  484247.50  49691.30      7581\n",
       "1        2015  470532.51  61696.60      7979\n",
       "2        2016  609205.60  81968.50      9837\n",
       "3        2017  733215.26  93603.93     12476"
      ]
     },
     "execution_count": 44,
     "metadata": {},
     "output_type": "execute_result"
    }
   ],
   "source": [
    "# Group by Order_Year # Total sales and profit \n",
    "yearly = df.groupby('Order_Year').agg({\n",
    "    'Sales': 'sum',\n",
    "    'Profit': 'sum',\n",
    "    'Quantity': 'sum'\n",
    "}).reset_index()\n",
    "yearly.round(2)"
   ]
  },
  {
   "cell_type": "code",
   "execution_count": 45,
   "id": "07676455-9bba-49c5-908d-4b50aa22a9d8",
   "metadata": {},
   "outputs": [
    {
     "data": {
      "image/png": "[encoded data removed]",
      "text/plain": [
       "<Figure size 700x500 with 1 Axes>"
      ]
     },
     "metadata": {},
     "output_type": "display_data"
    }
   ],
   "source": [
    "# Plot Yearly Sales vs Profit\n",
    "plt.figure(figsize=(7, 5))\n",
    "plt.plot(yearly['Order_Year'], yearly['Sales'], marker='o', label='Total Sales')\n",
    "plt.plot(yearly['Order_Year'], yearly['Profit'], marker='o', label='Total Profit')\n",
    "plt.title('Yearly Sales and Profit')\n",
    "plt.xlabel('Order Year')\n",
    "plt.ylabel('Amount ($)')\n",
    "plt.legend()\n",
    "plt.tight_layout()\n",
    "plt.show()"
   ]
  },
  {
   "cell_type": "code",
   "execution_count": 46,
   "id": "af187314-2c44-49db-80cd-f812c081dc8e",
   "metadata": {},
   "outputs": [
    {
     "data": {
      "text/html": [
       "<div>\n",
       "<style scoped>\n",
       "    .dataframe tbody tr th:only-of-type {\n",
       "        vertical-align: middle;\n",
       "    }\n",
       "\n",
       "    .dataframe tbody tr th {\n",
       "        vertical-align: top;\n",
       "    }\n",
       "\n",
       "    .dataframe thead th {\n",
       "        text-align: right;\n",
       "    }\n",
       "</style>\n",
       "<table border=\"1\" class=\"dataframe\">\n",
       "  <thead>\n",
       "    <tr style=\"text-align: right;\">\n",
       "      <th></th>\n",
       "      <th>Product_Name</th>\n",
       "      <th>Sales</th>\n",
       "      <th>Profit</th>\n",
       "      <th>Quantity</th>\n",
       "    </tr>\n",
       "  </thead>\n",
       "  <tbody>\n",
       "    <tr>\n",
       "      <th>0</th>\n",
       "      <td>Canon imageCLASS 2200 Advanced Copier</td>\n",
       "      <td>61599.824</td>\n",
       "      <td>25199.9280</td>\n",
       "      <td>20</td>\n",
       "    </tr>\n",
       "    <tr>\n",
       "      <th>1</th>\n",
       "      <td>Fellowes PB500 Electric Punch Plastic Comb Bin...</td>\n",
       "      <td>27453.384</td>\n",
       "      <td>7753.0390</td>\n",
       "      <td>31</td>\n",
       "    </tr>\n",
       "    <tr>\n",
       "      <th>2</th>\n",
       "      <td>Cisco TelePresence System EX90 Videoconferenci...</td>\n",
       "      <td>22638.480</td>\n",
       "      <td>-1811.0784</td>\n",
       "      <td>6</td>\n",
       "    </tr>\n",
       "    <tr>\n",
       "      <th>3</th>\n",
       "      <td>HON 5400 Series Task Chairs for Big and Tall</td>\n",
       "      <td>21870.576</td>\n",
       "      <td>25.9995</td>\n",
       "      <td>39</td>\n",
       "    </tr>\n",
       "    <tr>\n",
       "      <th>4</th>\n",
       "      <td>GBC DocuBind TL300 Electric Binding System</td>\n",
       "      <td>19823.479</td>\n",
       "      <td>2233.5051</td>\n",
       "      <td>37</td>\n",
       "    </tr>\n",
       "  </tbody>\n",
       "</table>\n",
       "</div>"
      ],
      "text/plain": [
       "                                        Product_Name      Sales      Profit  \\\n",
       "0              Canon imageCLASS 2200 Advanced Copier  61599.824  25199.9280   \n",
       "1  Fellowes PB500 Electric Punch Plastic Comb Bin...  27453.384   7753.0390   \n",
       "2  Cisco TelePresence System EX90 Videoconferenci...  22638.480  -1811.0784   \n",
       "3       HON 5400 Series Task Chairs for Big and Tall  21870.576     25.9995   \n",
       "4         GBC DocuBind TL300 Electric Binding System  19823.479   2233.5051   \n",
       "\n",
       "   Quantity  \n",
       "0        20  \n",
       "1        31  \n",
       "2         6  \n",
       "3        39  \n",
       "4        37  "
      ]
     },
     "execution_count": 46,
     "metadata": {},
     "output_type": "execute_result"
    }
   ],
   "source": [
    "#product trends\n",
    "top_products = (df.groupby('Product_Name').agg({'Sales': 'sum', 'Profit': 'sum', 'Quantity': 'sum'}).sort_values(by='Sales', ascending=False)\n",
    "                .reset_index())\n",
    "# Show top 5 by sales\n",
    "top_products.head(5)"
   ]
  },
  {
   "cell_type": "code",
   "execution_count": 47,
   "id": "69e7066c-b8ff-4de8-a8a9-ec1f372d8042",
   "metadata": {},
   "outputs": [
    {
     "data": {
      "image/png": "[encoded data removed]",
      "text/plain": [
       "<Figure size 1000x600 with 1 Axes>"
      ]
     },
     "metadata": {},
     "output_type": "display_data"
    }
   ],
   "source": [
    "#Top 10 Products by Sales\n",
    "plt.figure(figsize=(10, 6))\n",
    "sns.barplot(data=top_products.head(5), x='Sales', y='Product_Name', palette='viridis')\n",
    "plt.title('Top 5 Products by Sales')\n",
    "plt.xlabel('Sales ($)')\n",
    "plt.ylabel('Product')\n",
    "plt.tight_layout()\n",
    "plt.show()"
   ]
  },
  {
   "cell_type": "code",
   "execution_count": 48,
   "id": "28894138-2514-4f84-8d06-2604aadb3ea2",
   "metadata": {},
   "outputs": [
    {
     "data": {
      "text/html": [
       "<div>\n",
       "<style scoped>\n",
       "    .dataframe tbody tr th:only-of-type {\n",
       "        vertical-align: middle;\n",
       "    }\n",
       "\n",
       "    .dataframe tbody tr th {\n",
       "        vertical-align: top;\n",
       "    }\n",
       "\n",
       "    .dataframe thead th {\n",
       "        text-align: right;\n",
       "    }\n",
       "</style>\n",
       "<table border=\"1\" class=\"dataframe\">\n",
       "  <thead>\n",
       "    <tr style=\"text-align: right;\">\n",
       "      <th></th>\n",
       "      <th>Category</th>\n",
       "      <th>Sales</th>\n",
       "      <th>Profit</th>\n",
       "      <th>Quantity</th>\n",
       "    </tr>\n",
       "  </thead>\n",
       "  <tbody>\n",
       "    <tr>\n",
       "      <th>0</th>\n",
       "      <td>Furniture</td>\n",
       "      <td>741999.7953</td>\n",
       "      <td>18737.2673</td>\n",
       "      <td>8028</td>\n",
       "    </tr>\n",
       "    <tr>\n",
       "      <th>1</th>\n",
       "      <td>Office Supplies</td>\n",
       "      <td>719047.0320</td>\n",
       "      <td>122742.1293</td>\n",
       "      <td>22906</td>\n",
       "    </tr>\n",
       "    <tr>\n",
       "      <th>2</th>\n",
       "      <td>Technology</td>\n",
       "      <td>836154.0330</td>\n",
       "      <td>145480.9476</td>\n",
       "      <td>6939</td>\n",
       "    </tr>\n",
       "  </tbody>\n",
       "</table>\n",
       "</div>"
      ],
      "text/plain": [
       "          Category        Sales       Profit  Quantity\n",
       "0        Furniture  741999.7953   18737.2673      8028\n",
       "1  Office Supplies  719047.0320  122742.1293     22906\n",
       "2       Technology  836154.0330  145480.9476      6939"
      ]
     },
     "execution_count": 48,
     "metadata": {},
     "output_type": "execute_result"
    }
   ],
   "source": [
    "cat_summary = (df.groupby('Category').agg({'Sales': 'sum', 'Profit': 'sum', 'Quantity': 'sum'}).reset_index())\n",
    "cat_summary"
   ]
  },
  {
   "cell_type": "code",
   "execution_count": 49,
   "id": "cae434b7-f05c-4391-9fa4-0c536bd52555",
   "metadata": {},
   "outputs": [
    {
     "data": {
      "image/png": "[encoded data removed]",
      "text/plain": [
       "<Figure size 600x600 with 1 Axes>"
      ]
     },
     "metadata": {},
     "output_type": "display_data"
    }
   ],
   "source": [
    "#Sales Share by Category\n",
    "plt.figure(figsize=(6, 6))\n",
    "plt.pie(cat_summary['Sales'], labels=cat_summary['Category'], autopct='%1.1f%%', startangle=140)\n",
    "plt.title('Sales Distribution by Category')\n",
    "plt.tight_layout()\n",
    "plt.show()"
   ]
  },
  {
   "cell_type": "code",
   "execution_count": 50,
   "id": "1c717b20-d9e7-4a3d-a40b-3ea3bd2d04d6",
   "metadata": {},
   "outputs": [
    {
     "ename": "SyntaxError",
     "evalue": "invalid character '“' (U+201C) (1200892086.py, line 2)",
     "output_type": "error",
     "traceback": [
      "\u001b[1;36m  Cell \u001b[1;32mIn[50], line 2\u001b[1;36m\u001b[0m\n\u001b[1;33m    Launch “Office Setup” campaigns\u001b[0m\n\u001b[1;37m           ^\u001b[0m\n\u001b[1;31mSyntaxError\u001b[0m\u001b[1;31m:\u001b[0m invalid character '“' (U+201C)\n"
     ]
    }
   ],
   "source": [
    "Create product bundles\n",
    "Launch “Office Setup” campaigns"
   ]
  },
  {
   "cell_type": "code",
   "execution_count": null,
   "id": "c77f3763-088b-4cbb-af47-7322cc071803",
   "metadata": {},
   "outputs": [],
   "source": [
    "#Sales by Customer Segment\n",
    "seg_summary = (df.groupby('Segment').agg({'Sales': 'sum', 'Profit': 'sum', 'Quantity': 'sum'}).reset_index())\n",
    "seg_summary"
   ]
  },
  {
   "cell_type": "code",
   "execution_count": null,
   "id": "b76cdef8-1a66-42c9-85f8-39b11b526456",
   "metadata": {},
   "outputs": [],
   "source": [
    "#Profit Margin by Segment\n",
    "# Calculate average profit margin per segment\n",
    "seg_margin = df.groupby('Segment')['Profit_Margin'].mean().reset_index()\n",
    "plt.figure(figsize=(6, 4))\n",
    "sns.barplot(data=seg_margin, x='Segment', y='Profit_Margin', palette='rocket')\n",
    "plt.title('Average Profit Margin by Customer Segment')\n",
    "plt.ylabel('Avg Profit Margin')\n",
    "plt.xlabel('Segment')\n",
    "plt.tight_layout()\n",
    "plt.show()"
   ]
  },
  {
   "cell_type": "code",
   "execution_count": null,
   "id": "b4a2f349-0ca2-4fa8-b054-fad14afe65e4",
   "metadata": {},
   "outputs": [],
   "source": [
    "# Group by Region and Segment, summing the Sales\n",
    "sales_region_segment = df.groupby(['Region', 'Segment'])['Sales'].sum().reset_index()"
   ]
  },
  {
   "cell_type": "code",
   "execution_count": null,
   "id": "b843c39b-0afd-4127-9f08-378adaeb5b33",
   "metadata": {},
   "outputs": [],
   "source": [
    "plt.figure(figsize=(10, 6))\n",
    "sns.barplot(data=sales_region_segment, x='Region', y='Sales', hue='Segment', palette='Set2')\n",
    "plt.title('Sales by Region and Customer Segment')\n",
    "plt.xlabel('Region')\n",
    "plt.ylabel('Sales ($)')\n",
    "plt.legend(title='Segment')\n",
    "plt.tight_layout()\n",
    "plt.show()"
   ]
  },
  {
   "cell_type": "code",
   "execution_count": null,
   "id": "8c4acaea-3591-4d71-8dfb-97b58027f380",
   "metadata": {},
   "outputs": [],
   "source": [
    "#Insight: West region on lead $725K in sales—top-performing region\n",
    "#Recommendation: Allocate more inventory and run region-specific promotions in the West to maintain momentum\n",
    "                #Launch region-specific flash sales during weekends\n",
    "                #Partner with local influencers or delivery services\n",
    "                #Offer free shipping or same-day delivery in those zone"
   ]
  },
  {
   "cell_type": "code",
   "execution_count": null,
   "id": "20a0fcdb-fcf5-4da0-b1dc-1c791d69f301",
   "metadata": {},
   "outputs": [],
   "source": [
    "month_order = [\n",
    "    'January', 'February', 'March', 'April', 'May', 'June',\n",
    "    'July', 'August', 'September', 'October', 'November', 'December'\n",
    "]"
   ]
  },
  {
   "cell_type": "code",
   "execution_count": null,
   "id": "bbfe4165-202d-4374-98ee-e0fe59205a08",
   "metadata": {},
   "outputs": [],
   "source": [
    "#Group by month and sum sales\n",
    "monthly_summary = (df.groupby('Order_Month')['Sales'].sum().reindex(month_order).reset_index())\n",
    "plt.figure(figsize=(10, 5))\n",
    "sns.barplot(data=monthly_summary, x='Order_Month', y='Sales', palette='Spectral')\n",
    "plt.title('Sales Trend by Month (Across All Years)')\n",
    "plt.xlabel('Month')\n",
    "plt.ylabel('Total Sales ($)')\n",
    "plt.tight_layout()\n",
    "plt.show()"
   ]
  },
  {
   "cell_type": "code",
   "execution_count": null,
   "id": "1555b4c5-3eb6-42b4-8a2c-10e52f84329e",
   "metadata": {},
   "outputs": [],
   "source": [
    "#Seasonal or Monthly Sales Trends Observed\n",
    "#Insight: Sales fluctuate month-to-month, i seems to me that it was seasonality or campaign-driven spikes\n",
    "# Low Sales Months Strategy\n",
    "#Recommendation: marketing and inventory planning for high-performing months\n",
    "                #Offers or Clearance Month discounts.\n",
    "                #Send re-engagement emails or SMS with exclusive codes valid only that month.\n",
    "                #Introduce limited-time combos only available in those weak months."
   ]
  },
  {
   "cell_type": "code",
   "execution_count": null,
   "id": "ba0f306e-cd09-4c81-96f7-987cd1ed8e17",
   "metadata": {},
   "outputs": [],
   "source": [
    "# Create pivot table for Profit by Category and Segment\n",
    "profit_heatmap_data = df.pivot_table(index='Category', columns='Segment', values='Profit', aggfunc='sum')\n",
    "plt.figure(figsize=(8, 5))\n",
    "sns.heatmap(profit_heatmap_data, annot=True, fmt=\".0f\", cmap=\"YlGnBu\")\n",
    "plt.title('Profit Heatmap by Category and Segment')\n",
    "plt.xlabel('Customer Segment')\n",
    "plt.ylabel('Product Category')\n",
    "plt.tight_layout()\n",
    "plt.show()"
   ]
  },
  {
   "cell_type": "code",
   "execution_count": null,
   "id": "2710deaf-a130-4224-8242-39ee4d0339d2",
   "metadata": {},
   "outputs": [],
   "source": [
    "#Insight: Heatmap shows high profits in combinations like “Technology - Corporate” and “Office Supplies - Consumer.”\n",
    "#Recommendation: Create bundled offers or custom deals for these profitable combinations\n",
    "                 #Offer loyalty points, first-time buyer discounts, or referral \n",
    "                 #ads and emails to their needs (like space saving furniture for Home Office)\n",
    "                 #Provide personalized recommendations based on customer needs "
   ]
  },
  {
   "cell_type": "code",
   "execution_count": null,
   "id": "33095d1c-5293-4ec0-b0ca-badb3a8bada5",
   "metadata": {},
   "outputs": [],
   "source": []
  },
  {
   "cell_type": "code",
   "execution_count": null,
   "id": "82c8b61d-24ff-4344-b163-c196f389d1b0",
   "metadata": {},
   "outputs": [],
   "source": []
  },
  {
   "cell_type": "code",
   "execution_count": null,
   "id": "91d0989c-65f4-485f-9874-fe9816275601",
   "metadata": {},
   "outputs": [],
   "source": []
  },
  {
   "cell_type": "code",
   "execution_count": null,
   "id": "b208af1a-6901-455d-a37f-db00bf203f66",
   "metadata": {},
   "outputs": [],
   "source": []
  },
  {
   "cell_type": "code",
   "execution_count": null,
   "id": "1edbc6ec-dfab-4894-baf7-3c5b6e6eb9a9",
   "metadata": {},
   "outputs": [],
   "source": []
  },
  {
   "cell_type": "code",
   "execution_count": null,
   "id": "1f9e1eb7-7a40-4a01-a288-c8f97077193b",
   "metadata": {},
   "outputs": [],
   "source": []
  },
  {
   "cell_type": "code",
   "execution_count": null,
   "id": "a611cf3e-fbfa-4364-88c5-41527ef83ce5",
   "metadata": {},
   "outputs": [],
   "source": []
  },
  {
   "cell_type": "code",
   "execution_count": null,
   "id": "bd0c26a3-df6e-433f-8d34-68390fae9d64",
   "metadata": {},
   "outputs": [],
   "source": []
  },
  {
   "cell_type": "code",
   "execution_count": null,
   "id": "51e70634-391b-4aad-a5a9-f1bc54002fd8",
   "metadata": {},
   "outputs": [],
   "source": []
  },
  {
   "cell_type": "code",
   "execution_count": null,
   "id": "cc947c50-0eef-401d-9517-b4f5a21ea932",
   "metadata": {},
   "outputs": [],
   "source": []
  },
  {
   "cell_type": "code",
   "execution_count": null,
   "id": "b5523783-8663-4e27-a8ab-b5a720436187",
   "metadata": {},
   "outputs": [],
   "source": []
  },
  {
   "cell_type": "code",
   "execution_count": null,
   "id": "65cedad4-51d1-446c-92f7-71f1c076bce0",
   "metadata": {},
   "outputs": [],
   "source": []
  },
  {
   "cell_type": "code",
   "execution_count": null,
   "id": "712fa078-dba9-4cf4-8581-ffe88f88499b",
   "metadata": {},
   "outputs": [],
   "source": []
  },
  {
   "cell_type": "code",
   "execution_count": null,
   "id": "53ae85b8-3e95-43d5-9c36-fea265dcbe06",
   "metadata": {},
   "outputs": [],
   "source": []
  },
  {
   "cell_type": "code",
   "execution_count": null,
   "id": "bb86fc5e-d124-4203-bab9-f7a6c020fb5d",
   "metadata": {},
   "outputs": [],
   "source": []
  },
  {
   "cell_type": "code",
   "execution_count": null,
   "id": "6b0f0ea9-cf99-449f-bd5c-cdc60e1b6d40",
   "metadata": {},
   "outputs": [],
   "source": []
  },
  {
   "cell_type": "code",
   "execution_count": null,
   "id": "f61b9d98-fff5-4a05-a00c-e8d5f3b357ee",
   "metadata": {},
   "outputs": [],
   "source": []
  },
  {
   "cell_type": "code",
   "execution_count": null,
   "id": "fb4cfb3c-c06a-4c9a-9302-c0da48610d48",
   "metadata": {},
   "outputs": [],
   "source": []
  },
  {
   "cell_type": "code",
   "execution_count": null,
   "id": "672a1a69-c689-4b88-8c17-ac0b93f56424",
   "metadata": {},
   "outputs": [],
   "source": []
  },
  {
   "cell_type": "code",
   "execution_count": null,
   "id": "564f48d0-6e19-496a-83fb-4fcac93bb493",
   "metadata": {},
   "outputs": [],
   "source": []
  },
  {
   "cell_type": "code",
   "execution_count": null,
   "id": "d76b075b-2350-40da-b339-ee385b900fa0",
   "metadata": {},
   "outputs": [],
   "source": []
  },
  {
   "cell_type": "code",
   "execution_count": null,
   "id": "288a81a1-b6d6-484d-b1bb-6a44c8333ccc",
   "metadata": {},
   "outputs": [],
   "source": []
  },
  {
   "cell_type": "code",
   "execution_count": null,
   "id": "415ff11d-81e7-4667-a9c3-fc924a89cb9a",
   "metadata": {},
   "outputs": [],
   "source": []
  },
  {
   "cell_type": "code",
   "execution_count": null,
   "id": "734fe6bf-099f-4938-b087-4992ddfd8328",
   "metadata": {},
   "outputs": [],
   "source": []
  },
  {
   "cell_type": "code",
   "execution_count": null,
   "id": "971d91ce-757c-4704-abc9-7eec041f4deb",
   "metadata": {},
   "outputs": [],
   "source": []
  },
  {
   "cell_type": "code",
   "execution_count": null,
   "id": "5338ab23-7c58-4241-a292-dad1b1232154",
   "metadata": {},
   "outputs": [],
   "source": []
  },
  {
   "cell_type": "code",
   "execution_count": null,
   "id": "22871e67-eb30-42eb-ba03-77f37567e535",
   "metadata": {},
   "outputs": [],
   "source": []
  },
  {
   "cell_type": "code",
   "execution_count": null,
   "id": "7977705b-1b15-44a1-9046-b49138e04547",
   "metadata": {},
   "outputs": [],
   "source": []
  },
  {
   "cell_type": "code",
   "execution_count": null,
   "id": "7a250f0a-d855-439a-a70b-8969e557c4c3",
   "metadata": {},
   "outputs": [],
   "source": []
  },
  {
   "cell_type": "code",
   "execution_count": null,
   "id": "bf2a02e4-0d70-4f75-bb39-a98e1810d802",
   "metadata": {},
   "outputs": [],
   "source": []
  },
  {
   "cell_type": "code",
   "execution_count": null,
   "id": "7fb6e7e6-391b-4733-a995-f35cde6bcf1b",
   "metadata": {},
   "outputs": [],
   "source": []
  }
 ],
 "metadata": {
  "kernelspec": {
   "display_name": "Python 3 (ipykernel)",
   "language": "python",
   "name": "python3"
  },
  "language_info": {
   "codemirror_mode": {
    "name": "ipython",
    "version": 3
   },
   "file_extension": ".py",
   "mimetype": "text/x-python",
   "name": "python",
   "nbconvert_exporter": "python",
   "pygments_lexer": "ipython3",
   "version": "3.12.7"
  }
 },
 "nbformat": 4,
 "nbformat_minor": 5
}
